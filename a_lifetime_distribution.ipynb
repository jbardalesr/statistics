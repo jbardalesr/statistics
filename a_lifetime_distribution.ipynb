{
 "cells": [
  {
   "attachments": {},
   "cell_type": "markdown",
   "metadata": {},
   "source": [
    "# A lifetime distribution with decreasing failure rate"
   ]
  },
  {
   "cell_type": "code",
   "execution_count": 1,
   "metadata": {},
   "outputs": [],
   "source": [
    "import numpy as np\n",
    "from scipy.optimize import minimize\n",
    "\n",
    "muestra = np.loadtxt(\"data.txt\")\n",
    "\n",
    "\n",
    "def log_v(param):\n",
    "    b = param[0]\n",
    "    p = param[1]\n",
    "    n = len(muestra)\n",
    "    f = n * np.log(b * (1 - p)) - b * np.sum(muestra) - 2 * np.sum(np.log(1 - p * np.exp(-b * muestra)))\n",
    "    return -f\n"
   ]
  },
  {
   "cell_type": "code",
   "execution_count": 5,
   "metadata": {},
   "outputs": [
    {
     "name": "stderr",
     "output_type": "stream",
     "text": [
      "C:\\Users\\jbard\\AppData\\Local\\Temp\\ipykernel_13724\\1034507917.py:11: RuntimeWarning: invalid value encountered in log\n",
      "  f = n * np.log(b * (1 - p)) - b * np.sum(muestra) - 2 * np.sum(np.log(1 - p * np.exp(-b * muestra)))\n"
     ]
    },
    {
     "data": {
      "text/plain": [
       "array([0.00800471, 0.4276126 ])"
      ]
     },
     "execution_count": 5,
     "metadata": {},
     "output_type": "execute_result"
    }
   ],
   "source": [
    "res = minimize(log_v, [0.1, 0.2], tol=0.000001, method='nelder-mead')\n",
    "res.x\n"
   ]
  },
  {
   "attachments": {},
   "cell_type": "markdown",
   "metadata": {},
   "source": [
    "Tarea: implementar EM, con sucesiones."
   ]
  },
  {
   "cell_type": "code",
   "execution_count": 3,
   "metadata": {},
   "outputs": [],
   "source": [
    "def b_aux(p, b):\n",
    "    pexp = p * np.exp(-b * muestra)\n",
    "    return (muestra * (1 + pexp) / (1 - pexp)).sum()\n",
    "\n",
    "\n",
    "def p_aux(p, b):\n",
    "    pexp = p * np.exp(-b * muestra)\n",
    "    return ((1 + pexp) / (1 - pexp)).sum()\n",
    "\n",
    "\n",
    "def bn(k, p0, b0):\n",
    "    b = b0\n",
    "    p = p0\n",
    "    n = len(muestra)\n",
    "\n",
    "    for i in range(k):\n",
    "        b = n / b_aux(p, b)\n",
    "        p = 1 - n / p_aux(p, b)\n",
    "    return b, p\n"
   ]
  },
  {
   "cell_type": "code",
   "execution_count": 4,
   "metadata": {},
   "outputs": [
    {
     "name": "stdout",
     "output_type": "stream",
     "text": [
      "CPU times: total: 15.6 ms\n",
      "Wall time: 17.9 ms\n"
     ]
    },
    {
     "data": {
      "text/plain": [
       "(0.008004709912646723, 0.42761282066000883)"
      ]
     },
     "execution_count": 4,
     "metadata": {},
     "output_type": "execute_result"
    }
   ],
   "source": [
    "%%time\n",
    "k = 1000\n",
    "p = 0.1\n",
    "b = 0.1\n",
    "bn(k, p, b)"
   ]
  }
 ],
 "metadata": {
  "kernelspec": {
   "display_name": "Python 3",
   "language": "python",
   "name": "python3"
  },
  "language_info": {
   "codemirror_mode": {
    "name": "ipython",
    "version": 3
   },
   "file_extension": ".py",
   "mimetype": "text/x-python",
   "name": "python",
   "nbconvert_exporter": "python",
   "pygments_lexer": "ipython3",
   "version": "3.11.1"
  },
  "orig_nbformat": 4,
  "vscode": {
   "interpreter": {
    "hash": "ad0665b20a8e3f55a21bf4726f6eb7599e5e078c0d7c5bed50553642023e8e09"
   }
  }
 },
 "nbformat": 4,
 "nbformat_minor": 2
}
